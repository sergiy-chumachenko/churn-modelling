{
 "cells": [
  {
   "cell_type": "code",
   "execution_count": 1,
   "metadata": {},
   "outputs": [],
   "source": [
    "# Bank Customer Churn Modeling (Artificial Neural Network)\n",
    "\n",
    "# Installing Theano, Tensorflow, Keras\n",
    "# pip install --upgrade --no-deps git+git://github.com/Theano/Theano.git\n",
    "# Install Tensorflow from the website: https://www.tensorflow.org/versions/r0.12/get_started/os_setup.html\n",
    "# pip install --upgrade keras"
   ]
  },
  {
   "cell_type": "code",
   "execution_count": 2,
   "metadata": {},
   "outputs": [],
   "source": [
    "# Part 1 - Data Preprocessing\n",
    "# Importing the libraries\n",
    "import numpy as np\n",
    "import matplotlib.pyplot as plt\n",
    "import pandas as pd"
   ]
  },
  {
   "cell_type": "code",
   "execution_count": 3,
   "metadata": {},
   "outputs": [],
   "source": [
    "# Importing the dataset\n",
    "dataset = pd.read_csv('Churn_Modelling.csv')\n",
    "X = dataset.iloc[:, 3:13].values\n",
    "y = dataset.iloc[:, 13].values"
   ]
  },
  {
   "cell_type": "code",
   "execution_count": 6,
   "metadata": {},
   "outputs": [],
   "source": [
    "# Encoding categorical data\n",
    "from sklearn.preprocessing import LabelEncoder, OneHotEncoder\n",
    "labelencoder_X_1 = LabelEncoder()\n",
    "X[:, 1] = labelencoder_X_1.fit_transform(X[:, 1])\n",
    "\n",
    "labelencoder_X_2 = LabelEncoder()\n",
    "X[:, 2] = labelencoder_X_2.fit_transform(X[:, 2])\n",
    "\n",
    "onehotencoder = OneHotEncoder(categorical_features = [1])\n",
    "X = onehotencoder.fit_transform(X).toarray()\n",
    "# To evoid dummy variable trap\n",
    "X = X[:, 1: ]"
   ]
  },
  {
   "cell_type": "code",
   "execution_count": 8,
   "metadata": {},
   "outputs": [],
   "source": [
    "# Splitting the dataset into thr Training set and Test set\n",
    "from sklearn.model_selection import train_test_split\n",
    "X_train, X_test, y_train, y_test = train_test_split(X, y, test_size = 0.20, random_state = 0)\n",
    "\n",
    "# Feature scaling\n",
    "from sklearn.preprocessing import StandardScaler\n",
    "sc_X = StandardScaler()\n",
    "X_train = sc_X.fit_transform(X_train)\n",
    "X_test = sc_X.transform(X_test)"
   ]
  },
  {
   "cell_type": "code",
   "execution_count": 18,
   "metadata": {},
   "outputs": [
    {
     "name": "stderr",
     "output_type": "stream",
     "text": [
      "Using TensorFlow backend.\n"
     ]
    }
   ],
   "source": [
    "# Part 2 - Now let's make the ANN!\n",
    "# Importing the Keras libraries and packages\n",
    "import keras\n",
    "from keras.models import Sequential\n",
    "from keras.layers import Dense"
   ]
  },
  {
   "cell_type": "code",
   "execution_count": 20,
   "metadata": {},
   "outputs": [],
   "source": [
    "#Initialising the ANN\n",
    "classifier = Sequential()"
   ]
  },
  {
   "cell_type": "code",
   "execution_count": 22,
   "metadata": {},
   "outputs": [],
   "source": [
    "# Adding the input layer and the hidden layer\n",
    "classifier.add(Dense(activation=\"relu\", input_dim=11, units=6, kernel_initializer=\"uniform\"))"
   ]
  },
  {
   "cell_type": "code",
   "execution_count": 23,
   "metadata": {},
   "outputs": [],
   "source": [
    "# Adding the second hidden layer\n",
    "classifier.add(Dense(activation=\"relu\", units=6, kernel_initializer=\"uniform\"))"
   ]
  },
  {
   "cell_type": "code",
   "execution_count": 24,
   "metadata": {},
   "outputs": [],
   "source": [
    "# Adding the output layer\n",
    "classifier.add(Dense(activation=\"sigmoid\", units=1, kernel_initializer=\"uniform\"))"
   ]
  },
  {
   "cell_type": "code",
   "execution_count": 25,
   "metadata": {},
   "outputs": [],
   "source": [
    "# Compiling the ANN\n",
    "classifier.compile(optimizer='adam', loss='binary_crossentropy', metrics = ['accuracy'])"
   ]
  },
  {
   "cell_type": "code",
   "execution_count": 26,
   "metadata": {},
   "outputs": [
    {
     "name": "stderr",
     "output_type": "stream",
     "text": [
      "/home/sh311f4c3/anaconda3/lib/python3.6/site-packages/keras/models.py:942: UserWarning: The `nb_epoch` argument in `fit` has been renamed `epochs`.\n",
      "  warnings.warn('The `nb_epoch` argument in `fit` '\n"
     ]
    },
    {
     "name": "stdout",
     "output_type": "stream",
     "text": [
      "Epoch 1/100\n",
      "8000/8000 [==============================] - 6s 784us/step - loss: 0.4854 - acc: 0.7959\n",
      "Epoch 2/100\n",
      "8000/8000 [==============================] - 5s 627us/step - loss: 0.4317 - acc: 0.7960\n",
      "Epoch 3/100\n",
      "8000/8000 [==============================] - 5s 633us/step - loss: 0.4263 - acc: 0.7960\n",
      "Epoch 4/100\n",
      "8000/8000 [==============================] - 5s 620us/step - loss: 0.4207 - acc: 0.8130\n",
      "Epoch 5/100\n",
      "8000/8000 [==============================] - 5s 633us/step - loss: 0.4169 - acc: 0.8260\n",
      "Epoch 6/100\n",
      "8000/8000 [==============================] - 5s 675us/step - loss: 0.4147 - acc: 0.8286\n",
      "Epoch 7/100\n",
      "8000/8000 [==============================] - 5s 644us/step - loss: 0.4120 - acc: 0.8309\n",
      "Epoch 8/100\n",
      "8000/8000 [==============================] - 5s 626us/step - loss: 0.4109 - acc: 0.8324\n",
      "Epoch 9/100\n",
      "8000/8000 [==============================] - 5s 607us/step - loss: 0.4102 - acc: 0.8350\n",
      "Epoch 10/100\n",
      "8000/8000 [==============================] - 5s 676us/step - loss: 0.4088 - acc: 0.8342\n",
      "Epoch 11/100\n",
      "8000/8000 [==============================] - 6s 741us/step - loss: 0.4080 - acc: 0.8337\n",
      "Epoch 12/100\n",
      "8000/8000 [==============================] - 4s 512us/step - loss: 0.4073 - acc: 0.8349\n",
      "Epoch 13/100\n",
      "8000/8000 [==============================] - 4s 519us/step - loss: 0.4067 - acc: 0.8347\n",
      "Epoch 14/100\n",
      "8000/8000 [==============================] - 4s 492us/step - loss: 0.4060 - acc: 0.8355\n",
      "Epoch 15/100\n",
      "8000/8000 [==============================] - 4s 533us/step - loss: 0.4055 - acc: 0.8347\n",
      "Epoch 16/100\n",
      "8000/8000 [==============================] - 6s 785us/step - loss: 0.4054 - acc: 0.8341\n",
      "Epoch 17/100\n",
      "8000/8000 [==============================] - 9s 1ms/step - loss: 0.4049 - acc: 0.8359\n",
      "Epoch 18/100\n",
      "8000/8000 [==============================] - 7s 905us/step - loss: 0.4042 - acc: 0.8346\n",
      "Epoch 19/100\n",
      "8000/8000 [==============================] - 6s 751us/step - loss: 0.4043 - acc: 0.8360\n",
      "Epoch 20/100\n",
      "8000/8000 [==============================] - 6s 699us/step - loss: 0.4032 - acc: 0.8369\n",
      "Epoch 21/100\n",
      "8000/8000 [==============================] - 5s 631us/step - loss: 0.4039 - acc: 0.8346\n",
      "Epoch 22/100\n",
      "8000/8000 [==============================] - 4s 555us/step - loss: 0.4034 - acc: 0.8375\n",
      "Epoch 23/100\n",
      "8000/8000 [==============================] - 5s 634us/step - loss: 0.4034 - acc: 0.8347\n",
      "Epoch 24/100\n",
      "8000/8000 [==============================] - 4s 541us/step - loss: 0.4034 - acc: 0.8336\n",
      "Epoch 25/100\n",
      "8000/8000 [==============================] - 4s 525us/step - loss: 0.4022 - acc: 0.8341\n",
      "Epoch 26/100\n",
      "8000/8000 [==============================] - 4s 517us/step - loss: 0.4026 - acc: 0.8345\n",
      "Epoch 27/100\n",
      "8000/8000 [==============================] - 4s 520us/step - loss: 0.4031 - acc: 0.8356\n",
      "Epoch 28/100\n",
      "8000/8000 [==============================] - 4s 556us/step - loss: 0.4019 - acc: 0.8337\n",
      "Epoch 29/100\n",
      "8000/8000 [==============================] - 4s 557us/step - loss: 0.4028 - acc: 0.8345\n",
      "Epoch 30/100\n",
      "8000/8000 [==============================] - 5s 577us/step - loss: 0.4020 - acc: 0.8361\n",
      "Epoch 31/100\n",
      "8000/8000 [==============================] - 5s 673us/step - loss: 0.4022 - acc: 0.8342\n",
      "Epoch 32/100\n",
      "8000/8000 [==============================] - 4s 500us/step - loss: 0.4017 - acc: 0.8369\n",
      "Epoch 33/100\n",
      "8000/8000 [==============================] - 4s 490us/step - loss: 0.4019 - acc: 0.8352\n",
      "Epoch 34/100\n",
      "8000/8000 [==============================] - 4s 555us/step - loss: 0.4019 - acc: 0.8342\n",
      "Epoch 35/100\n",
      "8000/8000 [==============================] - 5s 677us/step - loss: 0.4015 - acc: 0.8345\n",
      "Epoch 36/100\n",
      "8000/8000 [==============================] - 5s 594us/step - loss: 0.4015 - acc: 0.8347\n",
      "Epoch 37/100\n",
      "8000/8000 [==============================] - 5s 613us/step - loss: 0.4012 - acc: 0.8357\n",
      "Epoch 38/100\n",
      "8000/8000 [==============================] - 5s 610us/step - loss: 0.4016 - acc: 0.8360\n",
      "Epoch 39/100\n",
      "8000/8000 [==============================] - 4s 509us/step - loss: 0.4018 - acc: 0.8361\n",
      "Epoch 40/100\n",
      "8000/8000 [==============================] - 5s 578us/step - loss: 0.4019 - acc: 0.8351\n",
      "Epoch 41/100\n",
      "8000/8000 [==============================] - 5s 582us/step - loss: 0.4011 - acc: 0.8340\n",
      "Epoch 42/100\n",
      "8000/8000 [==============================] - 4s 528us/step - loss: 0.4011 - acc: 0.8355\n",
      "Epoch 43/100\n",
      "8000/8000 [==============================] - 7s 813us/step - loss: 0.4011 - acc: 0.8346\n",
      "Epoch 44/100\n",
      "8000/8000 [==============================] - 5s 648us/step - loss: 0.4011 - acc: 0.8362\n",
      "Epoch 45/100\n",
      "8000/8000 [==============================] - 5s 585us/step - loss: 0.4011 - acc: 0.8336\n",
      "Epoch 46/100\n",
      "8000/8000 [==============================] - 6s 748us/step - loss: 0.4007 - acc: 0.8340\n",
      "Epoch 47/100\n",
      "8000/8000 [==============================] - 7s 913us/step - loss: 0.4013 - acc: 0.8351\n",
      "Epoch 48/100\n",
      "8000/8000 [==============================] - 6s 759us/step - loss: 0.4009 - acc: 0.8355\n",
      "Epoch 49/100\n",
      "8000/8000 [==============================] - 7s 918us/step - loss: 0.4013 - acc: 0.8350\n",
      "Epoch 50/100\n",
      "8000/8000 [==============================] - 4s 558us/step - loss: 0.4015 - acc: 0.8337\n",
      "Epoch 51/100\n",
      "8000/8000 [==============================] - 5s 572us/step - loss: 0.4010 - acc: 0.8356\n",
      "Epoch 52/100\n",
      "8000/8000 [==============================] - 5s 600us/step - loss: 0.4010 - acc: 0.8356\n",
      "Epoch 53/100\n",
      "8000/8000 [==============================] - 5s 577us/step - loss: 0.4011 - acc: 0.8352\n",
      "Epoch 54/100\n",
      "8000/8000 [==============================] - 4s 541us/step - loss: 0.4012 - acc: 0.8359\n",
      "Epoch 55/100\n",
      "8000/8000 [==============================] - 5s 652us/step - loss: 0.4007 - acc: 0.8354\n",
      "Epoch 56/100\n",
      "8000/8000 [==============================] - 5s 601us/step - loss: 0.4005 - acc: 0.8352\n",
      "Epoch 57/100\n",
      "8000/8000 [==============================] - 7s 871us/step - loss: 0.4010 - acc: 0.8351\n",
      "Epoch 58/100\n",
      "8000/8000 [==============================] - 7s 890us/step - loss: 0.4007 - acc: 0.8347\n",
      "Epoch 59/100\n",
      "8000/8000 [==============================] - 6s 787us/step - loss: 0.4008 - acc: 0.8357\n",
      "Epoch 60/100\n",
      "8000/8000 [==============================] - 7s 854us/step - loss: 0.4005 - acc: 0.8360\n",
      "Epoch 61/100\n",
      "8000/8000 [==============================] - 6s 782us/step - loss: 0.4011 - acc: 0.8344\n",
      "Epoch 62/100\n",
      "8000/8000 [==============================] - 5s 652us/step - loss: 0.4008 - acc: 0.8351\n",
      "Epoch 63/100\n",
      "8000/8000 [==============================] - 5s 642us/step - loss: 0.4003 - acc: 0.8346\n",
      "Epoch 64/100\n",
      "8000/8000 [==============================] - 5s 679us/step - loss: 0.4008 - acc: 0.8349\n",
      "Epoch 65/100\n",
      "8000/8000 [==============================] - 6s 708us/step - loss: 0.4006 - acc: 0.8357\n",
      "Epoch 66/100\n",
      "8000/8000 [==============================] - 6s 702us/step - loss: 0.4007 - acc: 0.8360\n",
      "Epoch 67/100\n",
      "8000/8000 [==============================] - 6s 737us/step - loss: 0.4004 - acc: 0.8351\n",
      "Epoch 68/100\n",
      "8000/8000 [==============================] - 7s 855us/step - loss: 0.4006 - acc: 0.8350\n",
      "Epoch 69/100\n",
      "8000/8000 [==============================] - 7s 924us/step - loss: 0.4009 - acc: 0.8350\n",
      "Epoch 70/100\n",
      "8000/8000 [==============================] - 7s 836us/step - loss: 0.4005 - acc: 0.8342\n",
      "Epoch 71/100\n",
      "8000/8000 [==============================] - 7s 859us/step - loss: 0.4005 - acc: 0.8359\n",
      "Epoch 72/100\n",
      "8000/8000 [==============================] - 6s 808us/step - loss: 0.4005 - acc: 0.8337\n",
      "Epoch 73/100\n",
      "8000/8000 [==============================] - 7s 891us/step - loss: 0.4004 - acc: 0.8349\n",
      "Epoch 74/100\n",
      "8000/8000 [==============================] - 8s 1ms/step - loss: 0.4004 - acc: 0.8352\n",
      "Epoch 75/100\n",
      "8000/8000 [==============================] - 7s 865us/step - loss: 0.4006 - acc: 0.8341\n",
      "Epoch 76/100\n",
      "8000/8000 [==============================] - 6s 758us/step - loss: 0.4000 - acc: 0.8351\n",
      "Epoch 77/100\n",
      "8000/8000 [==============================] - 7s 916us/step - loss: 0.4004 - acc: 0.8350\n",
      "Epoch 78/100\n",
      "8000/8000 [==============================] - 7s 867us/step - loss: 0.3997 - acc: 0.8346\n",
      "Epoch 79/100\n",
      "8000/8000 [==============================] - 7s 840us/step - loss: 0.4000 - acc: 0.8352\n",
      "Epoch 80/100\n",
      "8000/8000 [==============================] - 7s 879us/step - loss: 0.4002 - acc: 0.8350\n",
      "Epoch 81/100\n",
      "8000/8000 [==============================] - 6s 801us/step - loss: 0.4002 - acc: 0.8339\n",
      "Epoch 82/100\n"
     ]
    },
    {
     "name": "stdout",
     "output_type": "stream",
     "text": [
      "8000/8000 [==============================] - 5s 671us/step - loss: 0.4011 - acc: 0.8349\n",
      "Epoch 83/100\n",
      "8000/8000 [==============================] - 5s 641us/step - loss: 0.4002 - acc: 0.8334\n",
      "Epoch 84/100\n",
      "8000/8000 [==============================] - 5s 672us/step - loss: 0.3999 - acc: 0.8350\n",
      "Epoch 85/100\n",
      "8000/8000 [==============================] - 5s 619us/step - loss: 0.4004 - acc: 0.8345\n",
      "Epoch 86/100\n",
      "8000/8000 [==============================] - 5s 647us/step - loss: 0.4004 - acc: 0.8355\n",
      "Epoch 87/100\n",
      "8000/8000 [==============================] - 5s 657us/step - loss: 0.4003 - acc: 0.8344\n",
      "Epoch 88/100\n",
      "8000/8000 [==============================] - 6s 722us/step - loss: 0.3997 - acc: 0.8337\n",
      "Epoch 89/100\n",
      "8000/8000 [==============================] - 6s 725us/step - loss: 0.4005 - acc: 0.8356\n",
      "Epoch 90/100\n",
      "8000/8000 [==============================] - 6s 770us/step - loss: 0.4004 - acc: 0.8344\n",
      "Epoch 91/100\n",
      "8000/8000 [==============================] - 5s 641us/step - loss: 0.4001 - acc: 0.8370\n",
      "Epoch 92/100\n",
      "8000/8000 [==============================] - 6s 708us/step - loss: 0.4003 - acc: 0.8351\n",
      "Epoch 93/100\n",
      "8000/8000 [==============================] - 6s 727us/step - loss: 0.4003 - acc: 0.8347\n",
      "Epoch 94/100\n",
      "8000/8000 [==============================] - 6s 708us/step - loss: 0.4001 - acc: 0.8362\n",
      "Epoch 95/100\n",
      "8000/8000 [==============================] - 6s 729us/step - loss: 0.4003 - acc: 0.8330 0s - loss: 0.4005 - a\n",
      "Epoch 96/100\n",
      "8000/8000 [==============================] - 7s 865us/step - loss: 0.4003 - acc: 0.8354\n",
      "Epoch 97/100\n",
      "8000/8000 [==============================] - 6s 739us/step - loss: 0.4006 - acc: 0.8351\n",
      "Epoch 98/100\n",
      "8000/8000 [==============================] - 6s 758us/step - loss: 0.3995 - acc: 0.8355\n",
      "Epoch 99/100\n",
      "8000/8000 [==============================] - 6s 761us/step - loss: 0.4001 - acc: 0.8354\n",
      "Epoch 100/100\n",
      "8000/8000 [==============================] - 6s 780us/step - loss: 0.3997 - acc: 0.8339\n"
     ]
    },
    {
     "data": {
      "text/plain": [
       "<keras.callbacks.History at 0x7f55f36edb00>"
      ]
     },
     "execution_count": 26,
     "metadata": {},
     "output_type": "execute_result"
    }
   ],
   "source": [
    "# Fitting ANN to the Training set\n",
    "classifier.fit(X_train, y_train, batch_size=10, epochs=100)"
   ]
  },
  {
   "cell_type": "code",
   "execution_count": 29,
   "metadata": {},
   "outputs": [],
   "source": [
    "# Part 3 - Making the predictions and evaluating the model\n",
    "# Predict the test set result\n",
    "y_pred = classifier.predict(X_test)\n",
    "y_pred = (y_pred > 0.5)"
   ]
  },
  {
   "cell_type": "code",
   "execution_count": 30,
   "metadata": {},
   "outputs": [
    {
     "name": "stdout",
     "output_type": "stream",
     "text": [
      "             precision    recall  f1-score   support\n",
      "\n",
      "          0       0.85      0.96      0.91      1595\n",
      "          1       0.71      0.34      0.46       405\n",
      "\n",
      "avg / total       0.82      0.84      0.82      2000\n",
      "\n",
      "Metric: Accuracy --> Value: 83.9%\n",
      "Metric: Precicsion --> Value: 71.28%\n",
      "Metric: Recall --> Value: 34.32%\n"
     ]
    }
   ],
   "source": [
    "# Making the Confusion Matrix\n",
    "from sklearn.metrics import confusion_matrix\n",
    "cm = confusion_matrix(y_test, y_pred)\n",
    "\n",
    "from sklearn.metrics import classification_report\n",
    "report = classification_report(y_test, y_pred, target_names=['0', '1'])\n",
    "print(report)\n",
    "\n",
    "# Results\n",
    "TP, TN, FP, FN = cm[1][1], cm[0][0], cm[0][1], cm[1][0]\n",
    "results = {}\n",
    "results['Accuracy'] = (TP+TN)/(TP+TN+FP+FN)\n",
    "results['Precicsion'] = TP/(TP+FP)\n",
    "results['Recall'] = TP/(TP+FN)\n",
    "for n, v in results.items():\n",
    "    print('Metric: {} --> Value: {}'.format(n, str(round(v, 4)*100)+'%'))"
   ]
  },
  {
   "cell_type": "code",
   "execution_count": null,
   "metadata": {},
   "outputs": [],
   "source": []
  },
  {
   "cell_type": "code",
   "execution_count": null,
   "metadata": {},
   "outputs": [],
   "source": []
  }
 ],
 "metadata": {
  "kernelspec": {
   "display_name": "Python 3",
   "language": "python",
   "name": "python3"
  },
  "language_info": {
   "codemirror_mode": {
    "name": "ipython",
    "version": 3
   },
   "file_extension": ".py",
   "mimetype": "text/x-python",
   "name": "python",
   "nbconvert_exporter": "python",
   "pygments_lexer": "ipython3",
   "version": "3.6.3"
  }
 },
 "nbformat": 4,
 "nbformat_minor": 2
}
