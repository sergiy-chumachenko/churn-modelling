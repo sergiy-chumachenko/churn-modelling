{
 "cells": [
  {
   "cell_type": "code",
   "execution_count": 1,
   "metadata": {},
   "outputs": [],
   "source": [
    "# Bank Customer Churn Modeling (Artificial Neural Network)\n",
    "\n",
    "# Installing Theano, Tensorflow, Keras\n",
    "# pip install --upgrade --no-deps git+git://github.com/Theano/Theano.git\n",
    "# Install Tensorflow from the website: https://www.tensorflow.org/versions/r0.12/get_started/os_setup.html\n",
    "# pip install --upgrade keras"
   ]
  },
  {
   "cell_type": "code",
   "execution_count": 2,
   "metadata": {},
   "outputs": [],
   "source": [
    "# Part 1 - Data Preprocessing\n",
    "# Importing the libraries\n",
    "import numpy as np\n",
    "import matplotlib.pyplot as plt\n",
    "import pandas as pd"
   ]
  },
  {
   "cell_type": "code",
   "execution_count": 3,
   "metadata": {},
   "outputs": [],
   "source": [
    "# Importing the dataset\n",
    "dataset = pd.read_csv('Churn_Modelling.csv')\n",
    "X = dataset.iloc[:, 3:13].values\n",
    "y = dataset.iloc[:, 13].values"
   ]
  },
  {
   "cell_type": "code",
   "execution_count": 4,
   "metadata": {},
   "outputs": [],
   "source": [
    "# Encoding categorical data\n",
    "from sklearn.preprocessing import LabelEncoder, OneHotEncoder\n",
    "labelencoder_X_1 = LabelEncoder()\n",
    "X[:, 1] = labelencoder_X_1.fit_transform(X[:, 1])\n",
    "\n",
    "labelencoder_X_2 = LabelEncoder()\n",
    "X[:, 2] = labelencoder_X_2.fit_transform(X[:, 2])\n",
    "\n",
    "onehotencoder = OneHotEncoder(categorical_features = [1])\n",
    "X = onehotencoder.fit_transform(X).toarray()\n",
    "# To evoid dummy variable trap\n",
    "X = X[:, 1: ]"
   ]
  },
  {
   "cell_type": "code",
   "execution_count": 5,
   "metadata": {},
   "outputs": [],
   "source": [
    "# Splitting the dataset into thr Training set and Test set\n",
    "from sklearn.model_selection import train_test_split\n",
    "X_train, X_test, y_train, y_test = train_test_split(X, y, test_size = 0.20, random_state = 0)\n",
    "\n",
    "# Feature scaling\n",
    "from sklearn.preprocessing import StandardScaler\n",
    "sc_X = StandardScaler()\n",
    "X_train = sc_X.fit_transform(X_train)\n",
    "X_test = sc_X.transform(X_test)"
   ]
  },
  {
   "cell_type": "code",
   "execution_count": 6,
   "metadata": {},
   "outputs": [
    {
     "name": "stderr",
     "output_type": "stream",
     "text": [
      "Using TensorFlow backend.\n"
     ]
    }
   ],
   "source": [
    "# Part 2 - Now let's make the ANN!\n",
    "# Importing the Keras libraries and packages\n",
    "import keras\n",
    "from keras.models import Sequential\n",
    "from keras.layers import Dense"
   ]
  },
  {
   "cell_type": "code",
   "execution_count": 7,
   "metadata": {},
   "outputs": [],
   "source": [
    "#Initialising the ANN\n",
    "classifier = Sequential()"
   ]
  },
  {
   "cell_type": "code",
   "execution_count": 8,
   "metadata": {},
   "outputs": [],
   "source": [
    "# Adding the input layer and the hidden layer\n",
    "classifier.add(Dense(activation=\"relu\", input_dim=11, units=6, kernel_initializer=\"uniform\"))"
   ]
  },
  {
   "cell_type": "code",
   "execution_count": 9,
   "metadata": {},
   "outputs": [],
   "source": [
    "# Adding the second hidden layer\n",
    "classifier.add(Dense(activation=\"relu\", units=6, kernel_initializer=\"uniform\"))"
   ]
  },
  {
   "cell_type": "code",
   "execution_count": 10,
   "metadata": {},
   "outputs": [],
   "source": [
    "# Adding the output layer\n",
    "classifier.add(Dense(activation=\"sigmoid\", units=1, kernel_initializer=\"uniform\"))"
   ]
  },
  {
   "cell_type": "code",
   "execution_count": 11,
   "metadata": {},
   "outputs": [],
   "source": [
    "# Compiling the ANN\n",
    "classifier.compile(optimizer='adam', loss='binary_crossentropy', metrics = ['accuracy'])"
   ]
  },
  {
   "cell_type": "code",
   "execution_count": 12,
   "metadata": {},
   "outputs": [
    {
     "name": "stdout",
     "output_type": "stream",
     "text": [
      "Epoch 1/100\n",
      "8000/8000 [==============================] - 6s 714us/step - loss: 0.5073 - acc: 0.7950\n",
      "Epoch 2/100\n",
      "8000/8000 [==============================] - 5s 642us/step - loss: 0.4296 - acc: 0.7960\n",
      "Epoch 3/100\n",
      "8000/8000 [==============================] - 4s 544us/step - loss: 0.4255 - acc: 0.7960\n",
      "Epoch 4/100\n",
      "8000/8000 [==============================] - 4s 536us/step - loss: 0.4217 - acc: 0.7969\n",
      "Epoch 5/100\n",
      "8000/8000 [==============================] - 5s 630us/step - loss: 0.4183 - acc: 0.8199\n",
      "Epoch 6/100\n",
      "8000/8000 [==============================] - 5s 675us/step - loss: 0.4160 - acc: 0.8282\n",
      "Epoch 7/100\n",
      "8000/8000 [==============================] - 5s 578us/step - loss: 0.4141 - acc: 0.8302\n",
      "Epoch 8/100\n",
      "8000/8000 [==============================] - 5s 576us/step - loss: 0.4132 - acc: 0.8314\n",
      "Epoch 9/100\n",
      "8000/8000 [==============================] - 4s 551us/step - loss: 0.4118 - acc: 0.8325\n",
      "Epoch 10/100\n",
      "8000/8000 [==============================] - 5s 607us/step - loss: 0.4107 - acc: 0.8325\n",
      "Epoch 11/100\n",
      "8000/8000 [==============================] - 4s 551us/step - loss: 0.4100 - acc: 0.8327\n",
      "Epoch 12/100\n",
      "8000/8000 [==============================] - 4s 557us/step - loss: 0.4088 - acc: 0.8337\n",
      "Epoch 13/100\n",
      "8000/8000 [==============================] - 4s 550us/step - loss: 0.4083 - acc: 0.8341\n",
      "Epoch 14/100\n",
      "8000/8000 [==============================] - 5s 664us/step - loss: 0.4076 - acc: 0.8329\n",
      "Epoch 15/100\n",
      "8000/8000 [==============================] - 4s 519us/step - loss: 0.4073 - acc: 0.8345\n",
      "Epoch 16/100\n",
      "8000/8000 [==============================] - 5s 600us/step - loss: 0.4063 - acc: 0.8329\n",
      "Epoch 17/100\n",
      "8000/8000 [==============================] - 5s 580us/step - loss: 0.4058 - acc: 0.8346\n",
      "Epoch 18/100\n",
      "8000/8000 [==============================] - 5s 586us/step - loss: 0.4055 - acc: 0.8345\n",
      "Epoch 19/100\n",
      "8000/8000 [==============================] - 5s 575us/step - loss: 0.4051 - acc: 0.8344\n",
      "Epoch 20/100\n",
      "8000/8000 [==============================] - 5s 567us/step - loss: 0.4045 - acc: 0.8340\n",
      "Epoch 21/100\n",
      "8000/8000 [==============================] - 4s 520us/step - loss: 0.4044 - acc: 0.8342\n",
      "Epoch 22/100\n",
      "8000/8000 [==============================] - 4s 510us/step - loss: 0.4039 - acc: 0.8354\n",
      "Epoch 23/100\n",
      "8000/8000 [==============================] - 5s 564us/step - loss: 0.4039 - acc: 0.8346\n",
      "Epoch 24/100\n",
      "8000/8000 [==============================] - 5s 603us/step - loss: 0.4037 - acc: 0.8340\n",
      "Epoch 25/100\n",
      "8000/8000 [==============================] - 4s 522us/step - loss: 0.4034 - acc: 0.8350\n",
      "Epoch 26/100\n",
      "8000/8000 [==============================] - 5s 641us/step - loss: 0.4031 - acc: 0.8366\n",
      "Epoch 27/100\n",
      "8000/8000 [==============================] - 5s 629us/step - loss: 0.4031 - acc: 0.8349\n",
      "Epoch 28/100\n",
      "8000/8000 [==============================] - 5s 596us/step - loss: 0.4027 - acc: 0.8337\n",
      "Epoch 29/100\n",
      "8000/8000 [==============================] - 5s 564us/step - loss: 0.4030 - acc: 0.8349\n",
      "Epoch 30/100\n",
      "8000/8000 [==============================] - 5s 571us/step - loss: 0.4027 - acc: 0.8350\n",
      "Epoch 31/100\n",
      "8000/8000 [==============================] - 5s 656us/step - loss: 0.4024 - acc: 0.8347\n",
      "Epoch 32/100\n",
      "8000/8000 [==============================] - 5s 624us/step - loss: 0.4025 - acc: 0.8347\n",
      "Epoch 33/100\n",
      "8000/8000 [==============================] - 5s 619us/step - loss: 0.4023 - acc: 0.8351\n",
      "Epoch 34/100\n",
      "8000/8000 [==============================] - 5s 572us/step - loss: 0.4022 - acc: 0.8349\n",
      "Epoch 35/100\n",
      "8000/8000 [==============================] - 5s 631us/step - loss: 0.4018 - acc: 0.8355\n",
      "Epoch 36/100\n",
      "8000/8000 [==============================] - 4s 559us/step - loss: 0.4021 - acc: 0.8335\n",
      "Epoch 37/100\n",
      "8000/8000 [==============================] - 4s 549us/step - loss: 0.4018 - acc: 0.8352\n",
      "Epoch 38/100\n",
      "8000/8000 [==============================] - 5s 595us/step - loss: 0.4016 - acc: 0.8337\n",
      "Epoch 39/100\n",
      "8000/8000 [==============================] - 5s 604us/step - loss: 0.4015 - acc: 0.8344\n",
      "Epoch 40/100\n",
      "8000/8000 [==============================] - 5s 602us/step - loss: 0.4017 - acc: 0.8352\n",
      "Epoch 41/100\n",
      "8000/8000 [==============================] - 5s 658us/step - loss: 0.4016 - acc: 0.8354\n",
      "Epoch 42/100\n",
      "8000/8000 [==============================] - 5s 616us/step - loss: 0.4016 - acc: 0.8345\n",
      "Epoch 43/100\n",
      "8000/8000 [==============================] - 5s 618us/step - loss: 0.4014 - acc: 0.8356\n",
      "Epoch 44/100\n",
      "8000/8000 [==============================] - 5s 652us/step - loss: 0.4015 - acc: 0.8346\n",
      "Epoch 45/100\n",
      "8000/8000 [==============================] - 5s 581us/step - loss: 0.4014 - acc: 0.8362\n",
      "Epoch 46/100\n",
      "8000/8000 [==============================] - 6s 699us/step - loss: 0.4013 - acc: 0.8344\n",
      "Epoch 47/100\n",
      "8000/8000 [==============================] - 5s 670us/step - loss: 0.4012 - acc: 0.8346\n",
      "Epoch 48/100\n",
      "8000/8000 [==============================] - 5s 580us/step - loss: 0.4012 - acc: 0.8350\n",
      "Epoch 49/100\n",
      "8000/8000 [==============================] - 5s 594us/step - loss: 0.4008 - acc: 0.8350\n",
      "Epoch 50/100\n",
      "8000/8000 [==============================] - 5s 616us/step - loss: 0.4013 - acc: 0.8341\n",
      "Epoch 51/100\n",
      "8000/8000 [==============================] - 6s 691us/step - loss: 0.4009 - acc: 0.8344\n",
      "Epoch 52/100\n",
      "8000/8000 [==============================] - 5s 609us/step - loss: 0.4009 - acc: 0.8345\n",
      "Epoch 53/100\n",
      "8000/8000 [==============================] - 4s 550us/step - loss: 0.4010 - acc: 0.8350\n",
      "Epoch 54/100\n",
      "8000/8000 [==============================] - 4s 552us/step - loss: 0.4008 - acc: 0.8354\n",
      "Epoch 55/100\n",
      "8000/8000 [==============================] - 4s 556us/step - loss: 0.4007 - acc: 0.8350\n",
      "Epoch 56/100\n",
      "8000/8000 [==============================] - 4s 539us/step - loss: 0.4006 - acc: 0.8351\n",
      "Epoch 57/100\n",
      "8000/8000 [==============================] - 4s 536us/step - loss: 0.4008 - acc: 0.8345\n",
      "Epoch 58/100\n",
      "8000/8000 [==============================] - 5s 572us/step - loss: 0.4007 - acc: 0.8356\n",
      "Epoch 59/100\n",
      "8000/8000 [==============================] - 5s 571us/step - loss: 0.4009 - acc: 0.8350\n",
      "Epoch 60/100\n",
      "8000/8000 [==============================] - 5s 629us/step - loss: 0.4005 - acc: 0.8349\n",
      "Epoch 61/100\n",
      "8000/8000 [==============================] - 4s 516us/step - loss: 0.4006 - acc: 0.8349\n",
      "Epoch 62/100\n",
      "8000/8000 [==============================] - 5s 610us/step - loss: 0.4004 - acc: 0.8341\n",
      "Epoch 63/100\n",
      "8000/8000 [==============================] - 5s 613us/step - loss: 0.4007 - acc: 0.8335\n",
      "Epoch 64/100\n",
      "8000/8000 [==============================] - 5s 571us/step - loss: 0.4005 - acc: 0.8361\n",
      "Epoch 65/100\n",
      "8000/8000 [==============================] - 5s 578us/step - loss: 0.4005 - acc: 0.8359\n",
      "Epoch 66/100\n",
      "8000/8000 [==============================] - 5s 568us/step - loss: 0.4005 - acc: 0.8356\n",
      "Epoch 67/100\n",
      "8000/8000 [==============================] - 5s 587us/step - loss: 0.4007 - acc: 0.8357\n",
      "Epoch 68/100\n",
      "8000/8000 [==============================] - 5s 564us/step - loss: 0.4002 - acc: 0.8344\n",
      "Epoch 69/100\n",
      "8000/8000 [==============================] - 5s 664us/step - loss: 0.4003 - acc: 0.8344\n",
      "Epoch 70/100\n",
      "8000/8000 [==============================] - 5s 579us/step - loss: 0.4002 - acc: 0.8356\n",
      "Epoch 71/100\n",
      "8000/8000 [==============================] - 5s 632us/step - loss: 0.4003 - acc: 0.8336\n",
      "Epoch 72/100\n",
      "8000/8000 [==============================] - 5s 563us/step - loss: 0.4007 - acc: 0.8356\n",
      "Epoch 73/100\n",
      "8000/8000 [==============================] - 5s 615us/step - loss: 0.4004 - acc: 0.8354\n",
      "Epoch 74/100\n",
      "8000/8000 [==============================] - 4s 548us/step - loss: 0.4004 - acc: 0.8350\n",
      "Epoch 75/100\n",
      "8000/8000 [==============================] - 5s 576us/step - loss: 0.4004 - acc: 0.8346\n",
      "Epoch 76/100\n",
      "8000/8000 [==============================] - 5s 648us/step - loss: 0.4002 - acc: 0.8335\n",
      "Epoch 77/100\n",
      "8000/8000 [==============================] - 5s 601us/step - loss: 0.4001 - acc: 0.8347\n",
      "Epoch 78/100\n",
      "8000/8000 [==============================] - 5s 628us/step - loss: 0.4003 - acc: 0.8351\n",
      "Epoch 79/100\n",
      "8000/8000 [==============================] - 5s 595us/step - loss: 0.4005 - acc: 0.8355\n",
      "Epoch 80/100\n",
      "8000/8000 [==============================] - 4s 551us/step - loss: 0.4002 - acc: 0.8344\n",
      "Epoch 81/100\n",
      "8000/8000 [==============================] - 5s 591us/step - loss: 0.4000 - acc: 0.8352\n",
      "Epoch 82/100\n"
     ]
    },
    {
     "name": "stdout",
     "output_type": "stream",
     "text": [
      "8000/8000 [==============================] - 5s 568us/step - loss: 0.4002 - acc: 0.8354\n",
      "Epoch 83/100\n",
      "8000/8000 [==============================] - 4s 504us/step - loss: 0.4002 - acc: 0.8345\n",
      "Epoch 84/100\n",
      "8000/8000 [==============================] - 4s 528us/step - loss: 0.4004 - acc: 0.8350\n",
      "Epoch 85/100\n",
      "8000/8000 [==============================] - 4s 534us/step - loss: 0.4005 - acc: 0.8354\n",
      "Epoch 86/100\n",
      "8000/8000 [==============================] - 4s 504us/step - loss: 0.4001 - acc: 0.8351\n",
      "Epoch 87/100\n",
      "8000/8000 [==============================] - 5s 567us/step - loss: 0.3997 - acc: 0.8340\n",
      "Epoch 88/100\n",
      "8000/8000 [==============================] - 4s 532us/step - loss: 0.4002 - acc: 0.8344\n",
      "Epoch 89/100\n",
      "8000/8000 [==============================] - 4s 475us/step - loss: 0.4000 - acc: 0.8355\n",
      "Epoch 90/100\n",
      "8000/8000 [==============================] - 4s 460us/step - loss: 0.3992 - acc: 0.8355\n",
      "Epoch 91/100\n",
      "8000/8000 [==============================] - 4s 476us/step - loss: 0.3998 - acc: 0.8354\n",
      "Epoch 92/100\n",
      "8000/8000 [==============================] - 4s 526us/step - loss: 0.3998 - acc: 0.8352\n",
      "Epoch 93/100\n",
      "8000/8000 [==============================] - 4s 559us/step - loss: 0.3997 - acc: 0.8340\n",
      "Epoch 94/100\n",
      "8000/8000 [==============================] - 5s 569us/step - loss: 0.3995 - acc: 0.8362\n",
      "Epoch 95/100\n",
      "8000/8000 [==============================] - 5s 584us/step - loss: 0.3996 - acc: 0.8366\n",
      "Epoch 96/100\n",
      "8000/8000 [==============================] - 4s 545us/step - loss: 0.3994 - acc: 0.8345\n",
      "Epoch 97/100\n",
      "8000/8000 [==============================] - 4s 528us/step - loss: 0.3994 - acc: 0.8355\n",
      "Epoch 98/100\n",
      "8000/8000 [==============================] - 3s 423us/step - loss: 0.3989 - acc: 0.8356\n",
      "Epoch 99/100\n",
      "8000/8000 [==============================] - 4s 517us/step - loss: 0.3992 - acc: 0.8344\n",
      "Epoch 100/100\n",
      "8000/8000 [==============================] - 4s 458us/step - loss: 0.3988 - acc: 0.8346\n"
     ]
    },
    {
     "data": {
      "text/plain": [
       "<keras.callbacks.History at 0x7f13242fc748>"
      ]
     },
     "execution_count": 12,
     "metadata": {},
     "output_type": "execute_result"
    }
   ],
   "source": [
    "# Fitting ANN to the Training set\n",
    "classifier.fit(X_train, y_train, batch_size=10, epochs=100)"
   ]
  },
  {
   "cell_type": "code",
   "execution_count": 13,
   "metadata": {},
   "outputs": [],
   "source": [
    "# Part 3 - Making the predictions and evaluating the model\n",
    "# Predict the test set result\n",
    "y_pred = classifier.predict(X_test)\n",
    "y_pred = (y_pred > 0.5)"
   ]
  },
  {
   "cell_type": "code",
   "execution_count": 14,
   "metadata": {},
   "outputs": [
    {
     "name": "stdout",
     "output_type": "stream",
     "text": [
      "             precision    recall  f1-score   support\n",
      "\n",
      "          0       0.86      0.96      0.91      1595\n",
      "          1       0.71      0.37      0.48       405\n",
      "\n",
      "avg / total       0.83      0.84      0.82      2000\n",
      "\n",
      "Metric: Accuracy --> Value: 84.15%\n",
      "Metric: Precicsion --> Value: 71.15%\n",
      "Metric: Recall --> Value: 36.54%\n"
     ]
    }
   ],
   "source": [
    "# Making the Confusion Matrix\n",
    "from sklearn.metrics import confusion_matrix\n",
    "cm = confusion_matrix(y_test, y_pred)\n",
    "\n",
    "from sklearn.metrics import classification_report\n",
    "report = classification_report(y_test, y_pred, target_names=['0', '1'])\n",
    "print(report)\n",
    "\n",
    "# Results\n",
    "TP, TN, FP, FN = cm[1][1], cm[0][0], cm[0][1], cm[1][0]\n",
    "results = {}\n",
    "results['Accuracy'] = (TP+TN)/(TP+TN+FP+FN)\n",
    "results['Precicsion'] = TP/(TP+FP)\n",
    "results['Recall'] = TP/(TP+FN)\n",
    "for n, v in results.items():\n",
    "    print('Metric: {} --> Value: {}'.format(n, str(round(v, 4)*100)+'%'))"
   ]
  },
  {
   "cell_type": "code",
   "execution_count": null,
   "metadata": {},
   "outputs": [],
   "source": []
  },
  {
   "cell_type": "code",
   "execution_count": null,
   "metadata": {},
   "outputs": [],
   "source": []
  }
 ],
 "metadata": {
  "kernelspec": {
   "display_name": "Python 3",
   "language": "python",
   "name": "python3"
  },
  "language_info": {
   "codemirror_mode": {
    "name": "ipython",
    "version": 3
   },
   "file_extension": ".py",
   "mimetype": "text/x-python",
   "name": "python",
   "nbconvert_exporter": "python",
   "pygments_lexer": "ipython3",
   "version": "3.6.3"
  }
 },
 "nbformat": 4,
 "nbformat_minor": 2
}
